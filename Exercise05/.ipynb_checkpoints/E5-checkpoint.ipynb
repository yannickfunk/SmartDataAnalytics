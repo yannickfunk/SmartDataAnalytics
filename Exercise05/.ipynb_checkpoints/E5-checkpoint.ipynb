{
 "cells": [
  {
   "cell_type": "code",
   "execution_count": 47,
   "id": "0ab4a42d",
   "metadata": {},
   "outputs": [],
   "source": [
    "import pandas as pd\n",
    "import numpy as np\n",
    "import seaborn as sns\n",
    "import matplotlib.pyplot as plt\n",
    "from sklearn.preprocessing import MinMaxScaler\n",
    "from sklearn.model_selection import train_test_split\n",
    "from sklearn.feature_selection import chi2\n",
    "from sklearn.metrics import roc_auc_score, plot_roc_curve, roc_curve, plot_confusion_matrix, confusion_matrix\n",
    "from sklearn.linear_model import LogisticRegression"
   ]
  },
  {
   "cell_type": "markdown",
   "id": "581e74a6",
   "metadata": {},
   "source": [
    "## a)\n",
    "Daten laden und erkunden"
   ]
  },
  {
   "cell_type": "code",
   "execution_count": 26,
   "id": "5887bb1d",
   "metadata": {},
   "outputs": [],
   "source": [
    "warnings.simplefilter('ignore')"
   ]
  },
  {
   "cell_type": "code",
   "execution_count": 27,
   "id": "6e73c0af",
   "metadata": {},
   "outputs": [],
   "source": [
    "df = pd.read_csv('../Datasets/Hdma.csv', sep=';')"
   ]
  },
  {
   "cell_type": "code",
   "execution_count": 28,
   "id": "89682ef3",
   "metadata": {
    "scrolled": true
   },
   "outputs": [
    {
     "data": {
      "text/html": [
       "<div>\n",
       "<style scoped>\n",
       "    .dataframe tbody tr th:only-of-type {\n",
       "        vertical-align: middle;\n",
       "    }\n",
       "\n",
       "    .dataframe tbody tr th {\n",
       "        vertical-align: top;\n",
       "    }\n",
       "\n",
       "    .dataframe thead th {\n",
       "        text-align: right;\n",
       "    }\n",
       "</style>\n",
       "<table border=\"1\" class=\"dataframe\">\n",
       "  <thead>\n",
       "    <tr style=\"text-align: right;\">\n",
       "      <th></th>\n",
       "      <th>dir</th>\n",
       "      <th>hir</th>\n",
       "      <th>lvr</th>\n",
       "      <th>ccs</th>\n",
       "      <th>mcs</th>\n",
       "      <th>pbcr</th>\n",
       "      <th>dmi</th>\n",
       "      <th>self</th>\n",
       "      <th>single</th>\n",
       "      <th>uria</th>\n",
       "      <th>condo</th>\n",
       "      <th>black</th>\n",
       "      <th>deny</th>\n",
       "    </tr>\n",
       "  </thead>\n",
       "  <tbody>\n",
       "    <tr>\n",
       "      <th>0</th>\n",
       "      <td>0.221</td>\n",
       "      <td>0.221</td>\n",
       "      <td>0.800000</td>\n",
       "      <td>5.0</td>\n",
       "      <td>2.0</td>\n",
       "      <td>no</td>\n",
       "      <td>no</td>\n",
       "      <td>no</td>\n",
       "      <td>no</td>\n",
       "      <td>3.9</td>\n",
       "      <td>0</td>\n",
       "      <td>no</td>\n",
       "      <td>no</td>\n",
       "    </tr>\n",
       "    <tr>\n",
       "      <th>1</th>\n",
       "      <td>0.265</td>\n",
       "      <td>0.265</td>\n",
       "      <td>0.921875</td>\n",
       "      <td>2.0</td>\n",
       "      <td>2.0</td>\n",
       "      <td>no</td>\n",
       "      <td>no</td>\n",
       "      <td>no</td>\n",
       "      <td>yes</td>\n",
       "      <td>3.2</td>\n",
       "      <td>0</td>\n",
       "      <td>no</td>\n",
       "      <td>no</td>\n",
       "    </tr>\n",
       "    <tr>\n",
       "      <th>2</th>\n",
       "      <td>0.372</td>\n",
       "      <td>0.248</td>\n",
       "      <td>0.920398</td>\n",
       "      <td>1.0</td>\n",
       "      <td>2.0</td>\n",
       "      <td>no</td>\n",
       "      <td>no</td>\n",
       "      <td>no</td>\n",
       "      <td>no</td>\n",
       "      <td>3.2</td>\n",
       "      <td>0</td>\n",
       "      <td>no</td>\n",
       "      <td>no</td>\n",
       "    </tr>\n",
       "    <tr>\n",
       "      <th>3</th>\n",
       "      <td>0.320</td>\n",
       "      <td>0.250</td>\n",
       "      <td>0.860465</td>\n",
       "      <td>1.0</td>\n",
       "      <td>2.0</td>\n",
       "      <td>no</td>\n",
       "      <td>no</td>\n",
       "      <td>no</td>\n",
       "      <td>no</td>\n",
       "      <td>4.3</td>\n",
       "      <td>0</td>\n",
       "      <td>no</td>\n",
       "      <td>no</td>\n",
       "    </tr>\n",
       "    <tr>\n",
       "      <th>4</th>\n",
       "      <td>0.360</td>\n",
       "      <td>0.350</td>\n",
       "      <td>0.600000</td>\n",
       "      <td>1.0</td>\n",
       "      <td>1.0</td>\n",
       "      <td>no</td>\n",
       "      <td>no</td>\n",
       "      <td>no</td>\n",
       "      <td>no</td>\n",
       "      <td>3.2</td>\n",
       "      <td>0</td>\n",
       "      <td>no</td>\n",
       "      <td>no</td>\n",
       "    </tr>\n",
       "  </tbody>\n",
       "</table>\n",
       "</div>"
      ],
      "text/plain": [
       "     dir    hir       lvr  ccs  mcs pbcr dmi self single  uria  condo black  \\\n",
       "0  0.221  0.221  0.800000  5.0  2.0   no  no   no     no   3.9      0    no   \n",
       "1  0.265  0.265  0.921875  2.0  2.0   no  no   no    yes   3.2      0    no   \n",
       "2  0.372  0.248  0.920398  1.0  2.0   no  no   no     no   3.2      0    no   \n",
       "3  0.320  0.250  0.860465  1.0  2.0   no  no   no     no   4.3      0    no   \n",
       "4  0.360  0.350  0.600000  1.0  1.0   no  no   no     no   3.2      0    no   \n",
       "\n",
       "  deny  \n",
       "0   no  \n",
       "1   no  \n",
       "2   no  \n",
       "3   no  \n",
       "4   no  "
      ]
     },
     "execution_count": 28,
     "metadata": {},
     "output_type": "execute_result"
    }
   ],
   "source": [
    "df.head()"
   ]
  },
  {
   "cell_type": "code",
   "execution_count": 29,
   "id": "0c87489a",
   "metadata": {},
   "outputs": [
    {
     "data": {
      "text/plain": [
       "dir       0\n",
       "hir       0\n",
       "lvr       0\n",
       "ccs       0\n",
       "mcs       0\n",
       "pbcr      1\n",
       "dmi       0\n",
       "self      1\n",
       "single    0\n",
       "uria      0\n",
       "condo     0\n",
       "black     0\n",
       "deny      0\n",
       "dtype: int64"
      ]
     },
     "execution_count": 29,
     "metadata": {},
     "output_type": "execute_result"
    }
   ],
   "source": [
    "df.isnull().sum()"
   ]
  },
  {
   "cell_type": "code",
   "execution_count": 30,
   "id": "d1d952dc",
   "metadata": {},
   "outputs": [
    {
     "data": {
      "text/html": [
       "<div>\n",
       "<style scoped>\n",
       "    .dataframe tbody tr th:only-of-type {\n",
       "        vertical-align: middle;\n",
       "    }\n",
       "\n",
       "    .dataframe tbody tr th {\n",
       "        vertical-align: top;\n",
       "    }\n",
       "\n",
       "    .dataframe thead th {\n",
       "        text-align: right;\n",
       "    }\n",
       "</style>\n",
       "<table border=\"1\" class=\"dataframe\">\n",
       "  <thead>\n",
       "    <tr style=\"text-align: right;\">\n",
       "      <th></th>\n",
       "      <th>dir</th>\n",
       "      <th>hir</th>\n",
       "      <th>lvr</th>\n",
       "      <th>ccs</th>\n",
       "      <th>mcs</th>\n",
       "      <th>uria</th>\n",
       "      <th>condo</th>\n",
       "    </tr>\n",
       "  </thead>\n",
       "  <tbody>\n",
       "    <tr>\n",
       "      <th>count</th>\n",
       "      <td>2381.000000</td>\n",
       "      <td>2381.000000</td>\n",
       "      <td>2381.000000</td>\n",
       "      <td>2381.000000</td>\n",
       "      <td>2381.000000</td>\n",
       "      <td>2381.000000</td>\n",
       "      <td>2381.000000</td>\n",
       "    </tr>\n",
       "    <tr>\n",
       "      <th>mean</th>\n",
       "      <td>0.330814</td>\n",
       "      <td>0.255346</td>\n",
       "      <td>0.737760</td>\n",
       "      <td>2.116387</td>\n",
       "      <td>1.721008</td>\n",
       "      <td>3.774496</td>\n",
       "      <td>0.288114</td>\n",
       "    </tr>\n",
       "    <tr>\n",
       "      <th>std</th>\n",
       "      <td>0.107235</td>\n",
       "      <td>0.096635</td>\n",
       "      <td>0.178715</td>\n",
       "      <td>1.666370</td>\n",
       "      <td>0.537169</td>\n",
       "      <td>2.026636</td>\n",
       "      <td>0.452980</td>\n",
       "    </tr>\n",
       "    <tr>\n",
       "      <th>min</th>\n",
       "      <td>0.000000</td>\n",
       "      <td>0.000000</td>\n",
       "      <td>0.020000</td>\n",
       "      <td>1.000000</td>\n",
       "      <td>1.000000</td>\n",
       "      <td>1.800000</td>\n",
       "      <td>0.000000</td>\n",
       "    </tr>\n",
       "    <tr>\n",
       "      <th>25%</th>\n",
       "      <td>0.280000</td>\n",
       "      <td>0.214000</td>\n",
       "      <td>0.652850</td>\n",
       "      <td>1.000000</td>\n",
       "      <td>1.000000</td>\n",
       "      <td>3.100000</td>\n",
       "      <td>0.000000</td>\n",
       "    </tr>\n",
       "    <tr>\n",
       "      <th>50%</th>\n",
       "      <td>0.330000</td>\n",
       "      <td>0.260000</td>\n",
       "      <td>0.779412</td>\n",
       "      <td>1.000000</td>\n",
       "      <td>2.000000</td>\n",
       "      <td>3.200000</td>\n",
       "      <td>0.000000</td>\n",
       "    </tr>\n",
       "    <tr>\n",
       "      <th>75%</th>\n",
       "      <td>0.370000</td>\n",
       "      <td>0.298800</td>\n",
       "      <td>0.868421</td>\n",
       "      <td>2.000000</td>\n",
       "      <td>2.000000</td>\n",
       "      <td>3.900000</td>\n",
       "      <td>1.000000</td>\n",
       "    </tr>\n",
       "    <tr>\n",
       "      <th>max</th>\n",
       "      <td>3.000000</td>\n",
       "      <td>3.000000</td>\n",
       "      <td>1.950000</td>\n",
       "      <td>6.000000</td>\n",
       "      <td>4.000000</td>\n",
       "      <td>10.600000</td>\n",
       "      <td>1.000000</td>\n",
       "    </tr>\n",
       "  </tbody>\n",
       "</table>\n",
       "</div>"
      ],
      "text/plain": [
       "               dir          hir          lvr          ccs          mcs  \\\n",
       "count  2381.000000  2381.000000  2381.000000  2381.000000  2381.000000   \n",
       "mean      0.330814     0.255346     0.737760     2.116387     1.721008   \n",
       "std       0.107235     0.096635     0.178715     1.666370     0.537169   \n",
       "min       0.000000     0.000000     0.020000     1.000000     1.000000   \n",
       "25%       0.280000     0.214000     0.652850     1.000000     1.000000   \n",
       "50%       0.330000     0.260000     0.779412     1.000000     2.000000   \n",
       "75%       0.370000     0.298800     0.868421     2.000000     2.000000   \n",
       "max       3.000000     3.000000     1.950000     6.000000     4.000000   \n",
       "\n",
       "              uria        condo  \n",
       "count  2381.000000  2381.000000  \n",
       "mean      3.774496     0.288114  \n",
       "std       2.026636     0.452980  \n",
       "min       1.800000     0.000000  \n",
       "25%       3.100000     0.000000  \n",
       "50%       3.200000     0.000000  \n",
       "75%       3.900000     1.000000  \n",
       "max      10.600000     1.000000  "
      ]
     },
     "execution_count": 30,
     "metadata": {},
     "output_type": "execute_result"
    }
   ],
   "source": [
    "#describe datasets\n",
    "df.describe()"
   ]
  },
  {
   "cell_type": "code",
   "execution_count": 31,
   "id": "1767de3d",
   "metadata": {},
   "outputs": [
    {
     "data": {
      "text/plain": [
       "no     1444\n",
       "yes     937\n",
       "Name: single, dtype: int64"
      ]
     },
     "execution_count": 31,
     "metadata": {},
     "output_type": "execute_result"
    }
   ],
   "source": [
    "#check for balance\n",
    "df['dmi'].value_counts()\n",
    "df['single'].value_counts()\n"
   ]
  },
  {
   "cell_type": "code",
   "execution_count": 32,
   "id": "dc7692ac",
   "metadata": {},
   "outputs": [
    {
     "data": {
      "text/html": [
       "<div>\n",
       "<style scoped>\n",
       "    .dataframe tbody tr th:only-of-type {\n",
       "        vertical-align: middle;\n",
       "    }\n",
       "\n",
       "    .dataframe tbody tr th {\n",
       "        vertical-align: top;\n",
       "    }\n",
       "\n",
       "    .dataframe thead th {\n",
       "        text-align: right;\n",
       "    }\n",
       "</style>\n",
       "<table border=\"1\" class=\"dataframe\">\n",
       "  <thead>\n",
       "    <tr style=\"text-align: right;\">\n",
       "      <th></th>\n",
       "      <th>dir</th>\n",
       "      <th>hir</th>\n",
       "      <th>lvr</th>\n",
       "      <th>ccs</th>\n",
       "      <th>mcs</th>\n",
       "      <th>pbcr</th>\n",
       "      <th>dmi</th>\n",
       "      <th>self</th>\n",
       "      <th>single</th>\n",
       "      <th>uria</th>\n",
       "      <th>condo</th>\n",
       "      <th>black</th>\n",
       "      <th>deny</th>\n",
       "    </tr>\n",
       "  </thead>\n",
       "  <tbody>\n",
       "    <tr>\n",
       "      <th>2380</th>\n",
       "      <td>0.330814</td>\n",
       "      <td>0.255346</td>\n",
       "      <td>0.700783</td>\n",
       "      <td>2.116387</td>\n",
       "      <td>1.721008</td>\n",
       "      <td>NaN</td>\n",
       "      <td>no</td>\n",
       "      <td>NaN</td>\n",
       "      <td>yes</td>\n",
       "      <td>3.774496</td>\n",
       "      <td>0</td>\n",
       "      <td>no</td>\n",
       "      <td>no</td>\n",
       "    </tr>\n",
       "  </tbody>\n",
       "</table>\n",
       "</div>"
      ],
      "text/plain": [
       "           dir       hir       lvr       ccs       mcs pbcr dmi self single  \\\n",
       "2380  0.330814  0.255346  0.700783  2.116387  1.721008  NaN  no  NaN    yes   \n",
       "\n",
       "          uria  condo black deny  \n",
       "2380  3.774496      0    no   no  "
      ]
     },
     "execution_count": 32,
     "metadata": {},
     "output_type": "execute_result"
    }
   ],
   "source": [
    "#null check\n",
    "df.isnull().sum()\n",
    "df[df.isnull().any(axis=1)]"
   ]
  },
  {
   "cell_type": "code",
   "execution_count": 33,
   "id": "06f9c58e",
   "metadata": {
    "scrolled": true
   },
   "outputs": [
    {
     "name": "stdout",
     "output_type": "stream",
     "text": [
      "<class 'pandas.core.frame.DataFrame'>\n",
      "RangeIndex: 2381 entries, 0 to 2380\n",
      "Data columns (total 13 columns):\n",
      " #   Column  Non-Null Count  Dtype  \n",
      "---  ------  --------------  -----  \n",
      " 0   dir     2381 non-null   float64\n",
      " 1   hir     2381 non-null   float64\n",
      " 2   lvr     2381 non-null   float64\n",
      " 3   ccs     2381 non-null   float64\n",
      " 4   mcs     2381 non-null   float64\n",
      " 5   pbcr    2380 non-null   object \n",
      " 6   dmi     2381 non-null   object \n",
      " 7   self    2380 non-null   object \n",
      " 8   single  2381 non-null   object \n",
      " 9   uria    2381 non-null   float64\n",
      " 10  condo   2381 non-null   int64  \n",
      " 11  black   2381 non-null   object \n",
      " 12  deny    2381 non-null   object \n",
      "dtypes: float64(6), int64(1), object(6)\n",
      "memory usage: 241.9+ KB\n"
     ]
    }
   ],
   "source": [
    "df.info()"
   ]
  },
  {
   "cell_type": "code",
   "execution_count": 46,
   "id": "f96a5373",
   "metadata": {},
   "outputs": [
    {
     "data": {
      "image/png": "[encoded data removed]",
      "text/plain": [
       "<Figure size 1080x432 with 2 Axes>"
      ]
     },
     "metadata": {
      "needs_background": "light"
     },
     "output_type": "display_data"
    }
   ],
   "source": [
    "#Plots to check for outliers\n",
    "f, axes = plt.subplots(1, 2, figsize=(15, 6))\n",
    "f.subplots_adjust(hspace=.3, wspace=.25)\n",
    "plt1 = sns.boxplot(x=df['dir'], ax=axes[0])\n",
    "plt1.set_xscale(\"log\")\n",
    "plt2 = sns.boxplot(x=df['hir'], ax=axes[1])\n",
    "plt2.set_xscale(\"log\")\n",
    "plt.show()"
   ]
  },
  {
   "cell_type": "code",
   "execution_count": null,
   "id": "3d0982a4",
   "metadata": {},
   "outputs": [],
   "source": [
    "# inspect categorical values\n",
    "cols_cat = ['ccs', 'mcs', 'pbcr', 'dmi', 'self', 'single', 'condo', 'black', 'deny']\n",
    "for col in cols_cat:\n",
    "    print(df[col].unique())"
   ]
  },
  {
   "cell_type": "markdown",
   "id": "e6746de1",
   "metadata": {},
   "source": [
    "die kategorischen Merkmale **ccs** und **mcs** enthalten Werte, die nicht normal für kategorische Daten oder einen Ranking-Score sind\n"
   ]
  },
  {
   "cell_type": "markdown",
   "id": "3e213b99",
   "metadata": {},
   "source": [
    "#### b)\n",
    "Diese Aufgabe kann als ein Klassifizierungsproblem betrachtet werden. Zur Modellierung von Klassifizierungsproblemen können Modelle wie Entscheidungsbäume oder neuronale Netze oder logistische Regressionen verwendet werden\n"
   ]
  },
  {
   "cell_type": "code",
   "execution_count": 7,
   "id": "7025e2ed",
   "metadata": {
    "scrolled": true
   },
   "outputs": [
    {
     "data": {
      "text/html": [
       "<div>\n",
       "<style scoped>\n",
       "    .dataframe tbody tr th:only-of-type {\n",
       "        vertical-align: middle;\n",
       "    }\n",
       "\n",
       "    .dataframe tbody tr th {\n",
       "        vertical-align: top;\n",
       "    }\n",
       "\n",
       "    .dataframe thead th {\n",
       "        text-align: right;\n",
       "    }\n",
       "</style>\n",
       "<table border=\"1\" class=\"dataframe\">\n",
       "  <thead>\n",
       "    <tr style=\"text-align: right;\">\n",
       "      <th></th>\n",
       "      <th>dir</th>\n",
       "      <th>hir</th>\n",
       "      <th>lvr</th>\n",
       "      <th>ccs</th>\n",
       "      <th>mcs</th>\n",
       "      <th>uria</th>\n",
       "      <th>condo</th>\n",
       "    </tr>\n",
       "  </thead>\n",
       "  <tbody>\n",
       "    <tr>\n",
       "      <th>count</th>\n",
       "      <td>2381.000000</td>\n",
       "      <td>2381.000000</td>\n",
       "      <td>2381.000000</td>\n",
       "      <td>2381.000000</td>\n",
       "      <td>2381.000000</td>\n",
       "      <td>2381.000000</td>\n",
       "      <td>2381.000000</td>\n",
       "    </tr>\n",
       "    <tr>\n",
       "      <th>mean</th>\n",
       "      <td>0.330814</td>\n",
       "      <td>0.255346</td>\n",
       "      <td>0.737760</td>\n",
       "      <td>2.116387</td>\n",
       "      <td>1.721008</td>\n",
       "      <td>3.774496</td>\n",
       "      <td>0.288114</td>\n",
       "    </tr>\n",
       "    <tr>\n",
       "      <th>std</th>\n",
       "      <td>0.107235</td>\n",
       "      <td>0.096635</td>\n",
       "      <td>0.178715</td>\n",
       "      <td>1.666370</td>\n",
       "      <td>0.537169</td>\n",
       "      <td>2.026636</td>\n",
       "      <td>0.452980</td>\n",
       "    </tr>\n",
       "    <tr>\n",
       "      <th>min</th>\n",
       "      <td>0.000000</td>\n",
       "      <td>0.000000</td>\n",
       "      <td>0.020000</td>\n",
       "      <td>1.000000</td>\n",
       "      <td>1.000000</td>\n",
       "      <td>1.800000</td>\n",
       "      <td>0.000000</td>\n",
       "    </tr>\n",
       "    <tr>\n",
       "      <th>25%</th>\n",
       "      <td>0.280000</td>\n",
       "      <td>0.214000</td>\n",
       "      <td>0.652850</td>\n",
       "      <td>1.000000</td>\n",
       "      <td>1.000000</td>\n",
       "      <td>3.100000</td>\n",
       "      <td>0.000000</td>\n",
       "    </tr>\n",
       "    <tr>\n",
       "      <th>50%</th>\n",
       "      <td>0.330000</td>\n",
       "      <td>0.260000</td>\n",
       "      <td>0.779412</td>\n",
       "      <td>1.000000</td>\n",
       "      <td>2.000000</td>\n",
       "      <td>3.200000</td>\n",
       "      <td>0.000000</td>\n",
       "    </tr>\n",
       "    <tr>\n",
       "      <th>75%</th>\n",
       "      <td>0.370000</td>\n",
       "      <td>0.298800</td>\n",
       "      <td>0.868421</td>\n",
       "      <td>2.000000</td>\n",
       "      <td>2.000000</td>\n",
       "      <td>3.900000</td>\n",
       "      <td>1.000000</td>\n",
       "    </tr>\n",
       "    <tr>\n",
       "      <th>max</th>\n",
       "      <td>3.000000</td>\n",
       "      <td>3.000000</td>\n",
       "      <td>1.950000</td>\n",
       "      <td>6.000000</td>\n",
       "      <td>4.000000</td>\n",
       "      <td>10.600000</td>\n",
       "      <td>1.000000</td>\n",
       "    </tr>\n",
       "  </tbody>\n",
       "</table>\n",
       "</div>"
      ],
      "text/plain": [
       "               dir          hir          lvr          ccs          mcs  \\\n",
       "count  2381.000000  2381.000000  2381.000000  2381.000000  2381.000000   \n",
       "mean      0.330814     0.255346     0.737760     2.116387     1.721008   \n",
       "std       0.107235     0.096635     0.178715     1.666370     0.537169   \n",
       "min       0.000000     0.000000     0.020000     1.000000     1.000000   \n",
       "25%       0.280000     0.214000     0.652850     1.000000     1.000000   \n",
       "50%       0.330000     0.260000     0.779412     1.000000     2.000000   \n",
       "75%       0.370000     0.298800     0.868421     2.000000     2.000000   \n",
       "max       3.000000     3.000000     1.950000     6.000000     4.000000   \n",
       "\n",
       "              uria        condo  \n",
       "count  2381.000000  2381.000000  \n",
       "mean      3.774496     0.288114  \n",
       "std       2.026636     0.452980  \n",
       "min       1.800000     0.000000  \n",
       "25%       3.100000     0.000000  \n",
       "50%       3.200000     0.000000  \n",
       "75%       3.900000     1.000000  \n",
       "max      10.600000     1.000000  "
      ]
     },
     "execution_count": 7,
     "metadata": {},
     "output_type": "execute_result"
    }
   ],
   "source": [
    "#describe datasets\n",
    "df.describe()"
   ]
  },
  {
   "cell_type": "markdown",
   "id": "6720c62c",
   "metadata": {},
   "source": [
    "## b) "
   ]
  },
  {
   "cell_type": "markdown",
   "id": "09cbdfc5",
   "metadata": {},
   "source": [
    "Diese Aufgabe kann als ein Klassifizierungsproblem betrachtet werden. Zur Modellierung von Klassifizierungsproblemen können Modelle wie Entscheidungsbäume oder neuronale Netze oder logistische Regressionen oder RandomForest verwendet werden."
   ]
  },
  {
   "cell_type": "markdown",
   "id": "b428e87c",
   "metadata": {},
   "source": [
    "## c)"
   ]
  },
  {
   "cell_type": "markdown",
   "id": "9825478d",
   "metadata": {},
   "source": [
    "Es muss mehrere Vorverarbeitungsaufgaben durchgeführt werden,da Datenerhebung gut zu planen werde die Leistung von den angewandete Methode sicherstellen und verbessern.\n",
    "In unsere Ausgabe sollen wir folgende Schritten machen:\n",
    "\n",
    "1. Zeile mit nicht definierten Werten für kategoriale Merkmale entfernen\n",
    "2. Dummy-Variablen erstellen oder alle kategoriale Merkmale kodieren sollen\n",
    "3. Merkmale skalieren (abhängig vom gewählten Modell)\n",
    "4. Zeilen mit NAN-Werten entfernen\n",
    "5. Vorbereiten der Zielvariable **deny**.\n"
   ]
  },
  {
   "cell_type": "code",
   "execution_count": 48,
   "id": "fcdb2c2e",
   "metadata": {},
   "outputs": [],
   "source": [
    "# 1. remove rows\n",
    "df = df[(df['ccs'] % 1) == 0]\n",
    "df = df[(df['mcs'] % 1) == 0]"
   ]
  },
  {
   "cell_type": "code",
   "execution_count": 49,
   "id": "47ce6057",
   "metadata": {},
   "outputs": [],
   "source": [
    "# 2. preprocess categorical features\n",
    "cols_dummy = ['pbcr', 'dmi', 'self', 'single', 'condo', 'black']\n",
    "\n",
    "# change type of feature \"condo\" to work with pd.get_dummies function\n",
    "df['condo'] = df['condo'].astype('str')\n",
    "df = df.join(pd.get_dummies(df[cols_dummy], drop_first=True))\n",
    "df.drop(cols_dummy, axis=1, inplace=True)"
   ]
  },
  {
   "cell_type": "code",
   "execution_count": 11,
   "id": "4e46a299",
   "metadata": {},
   "outputs": [],
   "source": [
    "# scale features\n",
    "# cols_num = ['dir', 'hir', 'lvr', 'uria', 'ccs', 'mcs']\n",
    "cols_num = ['ccs', 'mcs', 'dir', 'hir', 'lvr', 'uria']\n",
    "df_sc = df.copy()\n",
    "df_sc[cols_num] = MinMaxScaler().fit_transform(df_sc[cols_num])"
   ]
  },
  {
   "cell_type": "code",
   "execution_count": 12,
   "id": "8cbabf2c",
   "metadata": {},
   "outputs": [],
   "source": [
    "# 4. remove rows wit nan-values\n",
    "df.dropna(inplace = True)\n",
    "df_sc.dropna(inplace= True)"
   ]
  },
  {
   "cell_type": "code",
   "execution_count": 50,
   "id": "4b90cc12",
   "metadata": {},
   "outputs": [],
   "source": [
    "# 5. target feature preprocessing\n",
    "df['deny'] = df['deny'].map({'no':0, 'yes':1})"
   ]
  },
  {
   "cell_type": "markdown",
   "id": "9dffaea8",
   "metadata": {},
   "source": [
    "#### d) Data Split and logistische Regression "
   ]
  },
  {
   "cell_type": "markdown",
   "id": "98de5cde",
   "metadata": {},
   "source": [
    "Im nachfolgenden werden Regression mit verschiedenen Modellen durchgeführt, zur Vergleichbarkeit wird die ROC-Kurce, die jeweilige AUC sowie eine Konfusionsmatrix dargestellt. Um die Modelle zu vergleichen, wird die AUC der ROC-Kurve genutzt. Laut Vahinen [[1]](https://www.ncbi.nlm.nih.gov/pmc/articles/PMC3303716/) ist dies jedoch nur möglich, solange sich dei Kurven nicht schneiden.<br> Ein direkter Vergleich von $feature$ $importance$ und $p-Werten$ ist nach erster Recherche nicht möglich, da die Berechnung der Werte auf unterschiedliche Weise erfolgt.[[4]](https://towardsdatascience.com/the-mathematics-of-decision-trees-random-forest-and-feature-importance-in-scikit-learn-and-spark-f2861df67e3#:~:text=Feature%20importance%20is%20calculated%20as,the%20more%20important%20the%20feature.)[[5]](https://online.stat.psu.edu/stat501/lesson/2/2.12#:~:text=For%20simple%20regression%2C%20the%20p,%3D%2030%20%E2%88%92%202%20%3D%2028.)"
   ]
  },
  {
   "cell_type": "code",
   "execution_count": 51,
   "id": "7d45ad78",
   "metadata": {},
   "outputs": [],
   "source": [
    "# split data\n",
    "df.rename({'deny':'target'}, axis=1, inplace=True)\n",
    "features = df.columns.difference(['target'])\n",
    "X = df[features]\n",
    "y = df['target']\n",
    "x_train, x_test, y_train, y_test = train_test_split(X, y, train_size=0.8, random_state=100)"
   ]
  },
  {
   "cell_type": "code",
   "execution_count": 16,
   "id": "07d89b64",
   "metadata": {},
   "outputs": [
    {
     "name": "stdout",
     "output_type": "stream",
     "text": [
      "dmi_yes       8.824831e-58\n",
      "ccs           2.522962e-37\n",
      "pbcr_yes      1.885285e-28\n",
      "black_yes     3.055577e-16\n",
      "single_yes    1.100531e-02\n",
      "mcs           1.294782e-02\n",
      "self_yes      6.237310e-02\n",
      "uria          7.382626e-02\n",
      "dir           1.335073e-01\n",
      "lvr           1.729351e-01\n",
      "condo_1       2.562053e-01\n",
      "hir           3.016179e-01\n",
      "dtype: float64\n",
      "----------------------------\n",
      "confusion matrix\n"
     ]
    },
    {
     "data": {
      "text/plain": [
       "<sklearn.metrics._plot.confusion_matrix.ConfusionMatrixDisplay at 0x1d3ca1894c0>"
      ]
     },
     "execution_count": 16,
     "metadata": {},
     "output_type": "execute_result"
    },
    {
     "data": {
      "image/png": "[encoded data removed]",
      "text/plain": [
       "<Figure size 432x288 with 1 Axes>"
      ]
     },
     "metadata": {
      "needs_background": "light"
     },
     "output_type": "display_data"
    },
    {
     "data": {
      "image/png": "[encoded data removed]",
      "text/plain": [
       "<Figure size 432x288 with 2 Axes>"
      ]
     },
     "metadata": {
      "needs_background": "light"
     },
     "output_type": "display_data"
    }
   ],
   "source": [
    "log_reg = LogisticRegression()\n",
    "\n",
    "# fit model\n",
    "log_reg.fit(x_train, y_train)\n",
    "\n",
    "#classify test data\n",
    "y_est_lr = log_reg.predict(x_test)\n",
    "\n",
    "# calculate p-values based on chi^2-test\n",
    "_, p_values = chi2(x_train, y_train)\n",
    "print(pd.Series(p_values, index=x_train.columns).sort_values(ascending=True))\n",
    "\n",
    "#plot ROC\n",
    "plot_roc_curve(log_reg, x_test, y_test)\n",
    "\n",
    "# plot confusion matrix to show prediction quality\n",
    "print('----------------------------')\n",
    "print('confusion matrix')\n",
    "plot_confusion_matrix(log_reg, x_test, y_test)"
   ]
  },
  {
   "cell_type": "markdown",
   "id": "4c5ce73a",
   "metadata": {},
   "source": [
    "Zur Beschreibung des Signifikanzniveaus wurde ein Chi-Quadrat-Test durchgeführt, mit dem die stochastische Unabhängigkeit der Regressoren im Vergleich zum Regressanden gemessen wird. Ein kleiner p-Wert besagt, dass die Nullhypothese (stochastische Unabhängigkeit der Variablen) verworfen wird und somit ein statistisch signifikanter Zusammenhang zwischen den Variablen besteht."
   ]
  },
  {
   "cell_type": "markdown",
   "id": "474ce06e",
   "metadata": {},
   "source": [
    "Die ROC-Kurve stellt den Trade-off zwischen Sensitivität ($TPR$) und Spezifität ($FPR$) dar.[[2]](https://www.displayr.com/what-is-a-roc-curve-how-to-interpret-it/) <br>\n",
    "Bezüglich des Ergebnisses kann gesagt werden, dass das Modell besser als der Zufall abschneidet, falls es eine AUC von **0,5** übertrift."
   ]
  },
  {
   "cell_type": "markdown",
   "id": "7636328b",
   "metadata": {},
   "source": [
    "#### e)"
   ]
  },
  {
   "cell_type": "markdown",
   "id": "17e9c51b",
   "metadata": {},
   "source": [
    "Der Parameter $class$ $weight$ ist von Interesse, wenn die Daten unbalanciert sind. Wenn er auf $balnced$ gesetzt ist, werden die Gewichte der Klassen entsprechend </br> der Verteilung der Klassenhäufigkeiten in den Zieldaten angepasst.[[3]](https://scikit-learn.org/stable/modules/generated/sklearn.linear_model.LogisticRegression.html) <br> Wir müssen die Verteilung der Zielvariable ermitteln, um herauszufinden, ob wir eine Klassengewichtung verwenden sollten."
   ]
  },
  {
   "cell_type": "code",
   "execution_count": 17,
   "id": "63b16396",
   "metadata": {},
   "outputs": [
    {
     "data": {
      "text/plain": [
       "<AxesSubplot:>"
      ]
     },
     "execution_count": 17,
     "metadata": {},
     "output_type": "execute_result"
    },
    {
     "data": {
      "image/png": "[encoded data removed]",
      "text/plain": [
       "<Figure size 432x288 with 1 Axes>"
      ]
     },
     "metadata": {
      "needs_background": "light"
     },
     "output_type": "display_data"
    }
   ],
   "source": [
    "df.target.hist()"
   ]
  },
  {
   "cell_type": "markdown",
   "id": "0a96af9f",
   "metadata": {},
   "source": [
    "Da die Zielklassen unbalanciert scheinen, könnte eine Verwendung des Parameters $class$ $weight$ sinnvoll sein."
   ]
  },
  {
   "cell_type": "code",
   "execution_count": 18,
   "id": "447a964c",
   "metadata": {},
   "outputs": [
    {
     "name": "stdout",
     "output_type": "stream",
     "text": [
      "p-values\n",
      "dmi_yes       8.824831e-58\n",
      "ccs           2.522962e-37\n",
      "pbcr_yes      1.885285e-28\n",
      "black_yes     3.055577e-16\n",
      "single_yes    1.100531e-02\n",
      "mcs           1.294782e-02\n",
      "self_yes      6.237310e-02\n",
      "uria          7.382626e-02\n",
      "dir           1.335073e-01\n",
      "lvr           1.729351e-01\n",
      "condo_1       2.562053e-01\n",
      "hir           3.016179e-01\n",
      "dtype: float64\n",
      "----------------------------\n",
      "confusion matrix\n"
     ]
    },
    {
     "data": {
      "text/plain": [
       "<sklearn.metrics._plot.confusion_matrix.ConfusionMatrixDisplay at 0x1d3ef4d1d00>"
      ]
     },
     "execution_count": 18,
     "metadata": {},
     "output_type": "execute_result"
    },
    {
     "data": {
      "image/png": "[encoded data removed]",
      "text/plain": [
       "<Figure size 432x288 with 1 Axes>"
      ]
     },
     "metadata": {
      "needs_background": "light"
     },
     "output_type": "display_data"
    },
    {
     "data": {
      "image/png": "[encoded data removed]",
      "text/plain": [
       "<Figure size 432x288 with 2 Axes>"
      ]
     },
     "metadata": {
      "needs_background": "light"
     },
     "output_type": "display_data"
    }
   ],
   "source": [
    "# perform logistic regression with balanced class weights\n",
    "log_reg_bal = LogisticRegression(class_weight='balanced')\n",
    "\n",
    "log_reg_bal.fit(x_train, y_train)\n",
    "\n",
    "#classify test data\n",
    "y_est_bal = log_reg_bal.predict(x_test)\n",
    "\n",
    "# calculate p-values based on chi^2-test\n",
    "_, p_values = chi2(x_train, y_train)\n",
    "print('p-values')\n",
    "print(pd.Series(p_values, index=x_train.columns).sort_values(ascending=True))\n",
    "\n",
    "#plot ROC\n",
    "plot_roc_curve(log_reg_bal, x_test, y_test)\n",
    "\n",
    "# plot confusion matrix to show prediction quality\n",
    "print('----------------------------')\n",
    "print('confusion matrix')\n",
    "plot_confusion_matrix(log_reg_bal, x_test, y_test)"
   ]
  },
  {
   "cell_type": "markdown",
   "id": "c05c37d6",
   "metadata": {},
   "source": [
    "Der AUC verbesserte sich leicht um **0,01**, wir können sehen, dass das Modell die Vorhersage des positiv markierten Ziels verbesserte, was von Interesse ist, da es weniger Auswirkungen hat, einen Kunden abzulehnen, der nicht abgelehnt werden sollte, als einen Kunden zu akzeptieren, der abgelehnt werden sollte. Auf der anderen Seite stieg die FPR stark an. Dieser Kompromiss sollte bei der Auswahl eines Modells bzw. dessen Hyperparameter berücksichtigt werden."
   ]
  },
  {
   "cell_type": "markdown",
   "id": "286e5da3",
   "metadata": {},
   "source": [
    "#### f)"
   ]
  },
  {
   "cell_type": "code",
   "execution_count": 31,
   "id": "af5815cc",
   "metadata": {
    "tags": []
   },
   "outputs": [
    {
     "data": {
      "image/png": "[encoded data removed]",
      "text/plain": [
       "<Figure size 432x288 with 1 Axes>"
      ]
     },
     "metadata": {
      "needs_background": "light"
     },
     "output_type": "display_data"
    },
    {
     "data": {
      "image/png": "[encoded data removed]",
      "text/plain": [
       "<Figure size 432x288 with 2 Axes>"
      ]
     },
     "metadata": {
      "needs_background": "light"
     },
     "output_type": "display_data"
    }
   ],
   "source": [
    "# i) baseline: häufigste Klasse\n",
    "y_est = y_test.map({1:0, 0:0})\n",
    "\n",
    "# plot ROC-Curve\n",
    "probs = [1 for x in range(len(x_test))]\n",
    "fpr, tpr, threshold = roc_curve(y_test, probs)\n",
    "roc_auc = roc_auc_score(fpr, tpr)\n",
    "\n",
    "import matplotlib.pyplot as plt\n",
    "plt.title('Receiver Operating Characteristic')\n",
    "plt.plot(fpr, tpr, label = 'baseline')\n",
    "plt.plot([0, 1], [0, 1],'r--')\n",
    "plt.xlim([0, 1])\n",
    "plt.ylim([0, 1])\n",
    "plt.ylabel('True Positive Rate')\n",
    "plt.xlabel('False Positive Rate')\n",
    "plt.legend()\n",
    "plt.show()\n",
    "\n",
    "# plot confusion matrix to show prediction quality\n",
    "import seaborn as sns\n",
    "ax = plt.axes()\n",
    "sns.heatmap(confusion_matrix(y_test, y_est), annot=True, ax=ax)\n",
    "ax.set_title('Confusion Matrix')\n",
    "plt.show()"
   ]
  },
  {
   "cell_type": "markdown",
   "id": "063c3fc3",
   "metadata": {},
   "source": [
    "Die AUC ist **0,5**, da der Basislinienprädiktor immer den gleichen Zielwert vorhersagt, was als Raten angesehen werden kann."
   ]
  },
  {
   "cell_type": "code",
   "execution_count": 76,
   "id": "99ffa80c",
   "metadata": {},
   "outputs": [
    {
     "name": "stdout",
     "output_type": "stream",
     "text": [
      "----------------------------\n",
      "Feature importances\n",
      "mcs           0.009348\n",
      "black_yes     0.016319\n",
      "single_yes    0.020007\n",
      "self_yes      0.023544\n",
      "condo_1       0.025189\n",
      "pbcr_yes      0.035014\n",
      "uria          0.078247\n",
      "dmi_yes       0.096884\n",
      "ccs           0.099102\n",
      "hir           0.134291\n",
      "dir           0.177884\n",
      "lvr           0.284172\n",
      "dtype: float64\n",
      "----------------------------\n",
      "confusion matrix\n"
     ]
    },
    {
     "data": {
      "text/plain": [
       "<sklearn.metrics._plot.confusion_matrix.ConfusionMatrixDisplay at 0x24d1cabfeb0>"
      ]
     },
     "execution_count": 76,
     "metadata": {},
     "output_type": "execute_result"
    },
    {
     "data": {
      "image/png": "[encoded data removed]",
      "text/plain": [
       "<Figure size 432x288 with 1 Axes>"
      ]
     },
     "metadata": {
      "needs_background": "light"
     },
     "output_type": "display_data"
    },
    {
     "data": {
      "image/png": "[encoded data removed]",
      "text/plain": [
       "<Figure size 432x288 with 2 Axes>"
      ]
     },
     "metadata": {
      "needs_background": "light"
     },
     "output_type": "display_data"
    }
   ],
   "source": [
    "# ii) Decision Tree\n",
    "from sklearn.tree import DecisionTreeClassifier\n",
    "dt = DecisionTreeClassifier(criterion='entropy')\n",
    "dt.fit(x_train, y_train)\n",
    "\n",
    "#plot feature imprtances\n",
    "print('----------------------------')\n",
    "print('Feature importances')\n",
    "print(pd.Series(dt.feature_importances_, index=x_test.columns).sort_values(ascending=True))\n",
    "\n",
    "#plot ROC-curve\n",
    "plot_roc_curve(dt, x_test, y_test)\n",
    "\n",
    "# calculate scores\n",
    "fpr_dt, tpr_dt, threshold_dt = roc_curve(y_test, dt.predict(x_test))\n",
    "\n",
    "# plot confusion matrix to show prediction quality\n",
    "print('----------------------------')\n",
    "print('confusion matrix')\n",
    "plot_confusion_matrix(dt, x_test, y_test)"
   ]
  },
  {
   "cell_type": "code",
   "execution_count": 82,
   "id": "92d2452c",
   "metadata": {},
   "outputs": [
    {
     "name": "stdout",
     "output_type": "stream",
     "text": [
      "----------------------------\n",
      "Feature importances\n",
      "self_yes      0.018208\n",
      "condo_1       0.025524\n",
      "single_yes    0.026163\n",
      "black_yes     0.029468\n",
      "mcs           0.032345\n",
      "pbcr_yes      0.047921\n",
      "uria          0.080963\n",
      "ccs           0.093493\n",
      "dmi_yes       0.100094\n",
      "hir           0.165341\n",
      "lvr           0.189983\n",
      "dir           0.190496\n",
      "dtype: float64\n"
     ]
    },
    {
     "data": {
      "text/plain": [
       "<sklearn.metrics._plot.confusion_matrix.ConfusionMatrixDisplay at 0x24d1c856070>"
      ]
     },
     "execution_count": 82,
     "metadata": {},
     "output_type": "execute_result"
    },
    {
     "data": {
      "image/png": "[encoded data removed]",
      "text/plain": [
       "<Figure size 432x288 with 1 Axes>"
      ]
     },
     "metadata": {
      "needs_background": "light"
     },
     "output_type": "display_data"
    },
    {
     "data": {
      "image/png": "[encoded data removed]",
      "text/plain": [
       "<Figure size 432x288 with 2 Axes>"
      ]
     },
     "metadata": {
      "needs_background": "light"
     },
     "output_type": "display_data"
    }
   ],
   "source": [
    "# iii) RandomForest\n",
    "from sklearn.ensemble import RandomForestClassifier\n",
    "rf = RandomForestClassifier()\n",
    "rf.fit(x_train, y_train)\n",
    "\n",
    "#plot feature imprtances\n",
    "print('----------------------------')\n",
    "print('Feature importances')\n",
    "print(pd.Series(rf.feature_importances_, index=x_test.columns).sort_values(ascending=True))\n",
    "\n",
    "#plot ROC-curve\n",
    "plot_roc_curve(rf, x_test, y_test)\n",
    "\n",
    "# calculate scores\n",
    "fpr_rf, tpr_rf, threshold_dt = roc_curve(y_test, rf.predict(x_test))\n",
    "\n",
    "# plot confusion matrix to show prediction quality\n",
    "plot_confusion_matrix(rf, x_test, y_test)"
   ]
  },
  {
   "cell_type": "code",
   "execution_count": 83,
   "id": "34d565dc",
   "metadata": {},
   "outputs": [
    {
     "name": "stdout",
     "output_type": "stream",
     "text": [
      "----------------------------\n",
      "Feature importances\n",
      "condo_1       0.00\n",
      "black_yes     0.02\n",
      "dmi_yes       0.02\n",
      "mcs           0.02\n",
      "pbcr_yes      0.02\n",
      "self_yes      0.02\n",
      "single_yes    0.02\n",
      "uria          0.02\n",
      "ccs           0.12\n",
      "hir           0.18\n",
      "dir           0.22\n",
      "lvr           0.34\n",
      "dtype: float64\n"
     ]
    },
    {
     "data": {
      "text/plain": [
       "<sklearn.metrics._plot.confusion_matrix.ConfusionMatrixDisplay at 0x24d1b3d29a0>"
      ]
     },
     "execution_count": 83,
     "metadata": {},
     "output_type": "execute_result"
    },
    {
     "data": {
      "image/png": "[encoded data removed]",
      "text/plain": [
       "<Figure size 432x288 with 1 Axes>"
      ]
     },
     "metadata": {
      "needs_background": "light"
     },
     "output_type": "display_data"
    },
    {
     "data": {
      "image/png": "[encoded data removed]",
      "text/plain": [
       "<Figure size 432x288 with 2 Axes>"
      ]
     },
     "metadata": {
      "needs_background": "light"
     },
     "output_type": "display_data"
    }
   ],
   "source": [
    "# iv) AdaBoost\n",
    "from sklearn.ensemble import AdaBoostClassifier\n",
    "ab = AdaBoostClassifier()\n",
    "ab.fit(x_train, y_train)\n",
    "y_est_ab = ab.predict(x_test)\n",
    "\n",
    "#plot feature imprtances\n",
    "print('----------------------------')\n",
    "print('Feature importances')\n",
    "print(pd.Series(ab.feature_importances_, index=x_test.columns).sort_values(ascending=True))\n",
    "\n",
    "#plot ROC-curve\n",
    "plot_roc_curve(ab, x_test, y_test)\n",
    "\n",
    "# calculate scores\n",
    "fpr_ab, tpr_ab, threshold_dt = roc_curve(y_test, ab.predict(x_test))\n",
    "\n",
    "# plot confusion matrix to show prediction quality\n",
    "plot_confusion_matrix(ab, x_test, y_test)"
   ]
  },
  {
   "cell_type": "code",
   "execution_count": 84,
   "id": "c8cada93",
   "metadata": {},
   "outputs": [
    {
     "data": {
      "text/plain": [
       "<sklearn.metrics._plot.confusion_matrix.ConfusionMatrixDisplay at 0x24d1cc45520>"
      ]
     },
     "execution_count": 84,
     "metadata": {},
     "output_type": "execute_result"
    },
    {
     "data": {
      "image/png": "[encoded data removed]",
      "text/plain": [
       "<Figure size 432x288 with 1 Axes>"
      ]
     },
     "metadata": {
      "needs_background": "light"
     },
     "output_type": "display_data"
    },
    {
     "data": {
      "image/png": "[encoded data removed]",
      "text/plain": [
       "<Figure size 432x288 with 2 Axes>"
      ]
     },
     "metadata": {
      "needs_background": "light"
     },
     "output_type": "display_data"
    }
   ],
   "source": [
    "# v) Naive Bayes\n",
    "from sklearn.naive_bayes import ComplementNB\n",
    "nb = ComplementNB()\n",
    "nb.fit(x_train, y_train)\n",
    "\n",
    "#plot ROC-curve\n",
    "plot_roc_curve(nb, x_test, y_test)\n",
    "\n",
    "# calculate scores\n",
    "fpr_nb, tpr_nb, threshold_dt = roc_curve(y_test, nb.predict(x_test))\n",
    "\n",
    "# plot confusion matrix to show prediction quality\n",
    "plot_confusion_matrix(nb, x_test, y_test)"
   ]
  },
  {
   "cell_type": "code",
   "execution_count": 87,
   "id": "4eea02ed",
   "metadata": {},
   "outputs": [
    {
     "data": {
      "text/plain": [
       "array([0.        , 0.19230769, 1.        ])"
      ]
     },
     "execution_count": 87,
     "metadata": {},
     "output_type": "execute_result"
    }
   ],
   "source": [
    "fpr_nb"
   ]
  },
  {
   "cell_type": "code",
   "execution_count": 74,
   "id": "fdfeca2e",
   "metadata": {},
   "outputs": [
    {
     "data": {
      "text/plain": [
       "<sklearn.metrics._plot.confusion_matrix.ConfusionMatrixDisplay at 0x24d1c8d7fd0>"
      ]
     },
     "execution_count": 74,
     "metadata": {},
     "output_type": "execute_result"
    },
    {
     "data": {
      "image/png": "[encoded data removed]",
      "text/plain": [
       "<Figure size 432x288 with 1 Axes>"
      ]
     },
     "metadata": {
      "needs_background": "light"
     },
     "output_type": "display_data"
    },
    {
     "data": {
      "image/png": "[encoded data removed]",
      "text/plain": [
       "<Figure size 432x288 with 2 Axes>"
      ]
     },
     "metadata": {
      "needs_background": "light"
     },
     "output_type": "display_data"
    }
   ],
   "source": [
    "# vi) SVM\n",
    "from sklearn.svm import SVC\n",
    "svm = SVC()\n",
    "svm.fit(x_train_sc, y_train)\n",
    "y_est_svm = nb.predict(x_test)\n",
    "\n",
    "#plot ROC-curve\n",
    "plot_roc_curve(svm, x_test_sc, y_test)\n",
    "\n",
    "# plot confusion matrix to show prediction quality\n",
    "plot_confusion_matrix(svm, x_test_sc, y_test)"
   ]
  },
  {
   "cell_type": "markdown",
   "id": "d8eede41",
   "metadata": {},
   "source": [
    "##### Model comparison with ROC-Curve"
   ]
  },
  {
   "cell_type": "code",
   "execution_count": 86,
   "id": "3a798cff",
   "metadata": {},
   "outputs": [
    {
     "data": {
      "image/png": "[encoded data removed]",
      "text/plain": [
       "<Figure size 432x288 with 1 Axes>"
      ]
     },
     "metadata": {
      "needs_background": "light"
     },
     "output_type": "display_data"
    }
   ],
   "source": [
    "plt.title('Receiver Operating Characteristic')\n",
    "plt.plot(fpr, tpr, label = 'baseline')\n",
    "plt.plot(fpr_dt, tpr_dt, label = 'dt')\n",
    "plt.plot(fpr_rf, tpr_rf, label = 'rf')\n",
    "plt.plot(fpr_ab, tpr_ab, label = 'ab')\n",
    "plt.plot(fpr_nb, tpr_nb, label = 'nb')\n",
    "plt.plot([0, 1], [0, 1],'r--')\n",
    "plt.xlim([0, 1])\n",
    "plt.ylim([0, 1])\n",
    "plt.ylabel('True Positive Rate')\n",
    "plt.xlabel('False Positive Rate')\n",
    "plt.legend()\n",
    "plt.show()"
   ]
  },
  {
   "cell_type": "markdown",
   "id": "5ca4ecef",
   "metadata": {},
   "source": [
    "#### Sources"
   ]
  },
  {
   "cell_type": "markdown",
   "id": "2b80ec46",
   "metadata": {},
   "source": [
    "[1] https://www.ncbi.nlm.nih.gov/pmc/articles/PMC3303716/<br>\n",
    "[2] https://www.displayr.com/what-is-a-roc-curve-how-to-interpret-it/ <br>\n",
    "[3] https://scikit-learn.org/stable/modules/generated/sklearn.linear_model.LogisticRegression.html<br>\n",
    "[4] https://towardsdatascience.com/the-mathematics-of-decision-trees-random-forest-and-feature-importance-in-scikit-learn-and-spark-f2861df67e3#:~:text=Feature%20importance%20is%20calculated%20as,the%20more%20important%20the%20feature.<br>\n",
    "[5] https://online.stat.psu.edu/stat501/lesson/2/2.12#:~:text=For%20simple%20regression%2C%20the%20p,%3D%2030%20%E2%88%92%202%20%3D%2028."
   ]
  }
 ],
 "metadata": {
  "kernelspec": {
   "display_name": "psdag03",
   "language": "python",
   "name": "psdag03"
  },
  "language_info": {
   "codemirror_mode": {
    "name": "ipython",
    "version": 3
   },
   "file_extension": ".py",
   "mimetype": "text/x-python",
   "name": "python",
   "nbconvert_exporter": "python",
   "pygments_lexer": "ipython3",
   "version": "3.8.13"
  }
 },
 "nbformat": 4,
 "nbformat_minor": 5
}
